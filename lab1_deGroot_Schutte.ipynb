{
 "cells": [
  {
   "cell_type": "markdown",
   "metadata": {
    "deletable": true,
    "editable": true
   },
   "source": [
    "## Mathematical Principles in Pattern Recognition (2017/2018)\n",
    "$\\newcommand{\\bPhi}{\\mathbf{\\Phi}}$\n",
    "$\\newcommand{\\bx}{\\mathbf{x}}$\n",
    "$\\newcommand{\\bw}{\\mathbf{w}}$\n",
    "$\\newcommand{\\bt}{\\mathbf{t}}$\n",
    "$\\newcommand{\\by}{\\mathbf{y}}$\n",
    "$\\newcommand{\\bm}{\\mathbf{m}}$\n",
    "$\\newcommand{\\bS}{\\mathbf{S}}$\n",
    "$\\newcommand{\\bI}{\\mathbf{I}}$"
   ]
  },
  {
   "cell_type": "markdown",
   "metadata": {
    "deletable": true,
    "editable": true
   },
   "source": [
    "# Lab 1\n",
    "\n",
    "In the computer labs we will work with the Python programming language within a Jupyter notebook. Each week a new notebook is made available that contains the exercises that are to be handed-in. \n",
    "\n",
    "* You are expected to work in pairs.\n",
    "* Only one of each pair has to submit on blackboard. Make sure that you add the student ID of your partner in the submission comments.\n",
    "* The main notebook file you submit should read \"Lab[number]_[last name 1]_[last name 2].ipynb\", for example \"Lab2_Bongers_Versteeg.ipynb\". \n",
    "* Please make sure your code will run without problems!\n",
    "\n",
    "Feel free ask any questions during the computer lab sessions, or email the TA, Elise (e.e.vanderpol@uva.nl).\n",
    "\n",
    "**The due date for the labs is Friday, Sep 15 at 15:00**"
   ]
  },
  {
   "cell_type": "code",
   "execution_count": 1,
   "metadata": {
    "collapsed": false,
    "deletable": true,
    "editable": true
   },
   "outputs": [
    {
     "name": "stdout",
     "output_type": "stream",
     "text": [
      "Populating the interactive namespace from numpy and matplotlib\n"
     ]
    }
   ],
   "source": [
    "%pylab inline"
   ]
  },
  {
   "cell_type": "markdown",
   "metadata": {
    "deletable": true,
    "editable": true
   },
   "source": [
    "## 1. Central Limit Theory\n",
    "\n",
    "In this exercise we play with discrete variables, drawn from a Bernoulli and Binomial distributions. In the end we will explore an example Central Limit Theorem (CLT) with respect to a Binomial random variable. THe CLT states that the sum or average of many independent copies of a random variable is approximately a normal random variable. An example plot of the probability desnity of a standard normal distribution is given below."
   ]
  },
  {
   "cell_type": "code",
   "execution_count": 2,
   "metadata": {
    "collapsed": false,
    "deletable": true,
    "editable": true
   },
   "outputs": [
    {
     "data": {
      "image/png": "[encoded data removed]",
      "text/plain": [
       "<matplotlib.figure.Figure at 0x7fa489b5c748>"
      ]
     },
     "metadata": {},
     "output_type": "display_data"
    }
   ],
   "source": [
    "def gaussian_pdf(x, mu, sigma):\n",
    "    return np.exp(-(x-mu)**2 /(2*sigma**2))/math.sqrt(2*math.pi * sigma**2)\n",
    "\n",
    "x = np.linspace(-3,3,100)\n",
    "plt.plot(x, gaussian_pdf(x, mu=0, sigma=1))\n",
    "plt.show()"
   ]
  },
  {
   "cell_type": "markdown",
   "metadata": {
    "deletable": true,
    "editable": true
   },
   "source": [
    "### 1.1 Bernoulli trial\n",
    "**[20 points]** Write a function `bernoulli_trial(p)` that returns a $1$ with probability $p$ and $0$ with probability $1 - p$. Use a random sampling method from the `random` or `numpy.random` modules in your implementation. Print the results of 10 repeated independent trials by calling the function 10 times for $p = 0.5$."
   ]
  },
  {
   "cell_type": "code",
   "execution_count": 3,
   "metadata": {
    "collapsed": false,
    "deletable": true,
    "editable": true
   },
   "outputs": [
    {
     "name": "stdout",
     "output_type": "stream",
     "text": [
      "1 1 1 1 0 1 0 1 1 0 "
     ]
    }
   ],
   "source": [
    "def bernoulli_trial(p=0.5):\n",
    "    if random.random() < p:\n",
    "        return 1\n",
    "    return 0\n",
    "\n",
    "for _ in range(10):\n",
    "    print(bernoulli_trial(0.5), end=' ')"
   ]
  },
  {
   "cell_type": "markdown",
   "metadata": {
    "deletable": true,
    "editable": true
   },
   "source": [
    "### 1.2 Multiple trials\n",
    "**[20 points]** Write a method `multiple_trials(n, p)` that returns a $N$-dimensional vector $\\bx$ where each $x_i$ is a Bernoulli sample. Use your implementation of the Bernoulli trial and make sure it returns a vector, i.e. a numpy array. Again print the output of 10 trials with $p = 0.5$ "
   ]
  },
  {
   "cell_type": "code",
   "execution_count": 4,
   "metadata": {
    "collapsed": false,
    "deletable": true,
    "editable": true
   },
   "outputs": [
    {
     "data": {
      "text/plain": [
       "array([1, 1, 0, 0, 0, 0, 1, 0, 1, 1])"
      ]
     },
     "execution_count": 4,
     "metadata": {},
     "output_type": "execute_result"
    }
   ],
   "source": [
    "def bernoulli_trial_vec(a, p):\n",
    "    a = 0\n",
    "    if random.random() < p:\n",
    "        a = 1\n",
    "    return a\n",
    "\n",
    "def multiple_trials(n, p):\n",
    "    result = np.zeros(n)\n",
    "    vec = np.vectorize(bernoulli_trial_vec)\n",
    "    return vec(result, p)\n",
    "\n",
    "\n",
    "multiple_trials(10, 0.5)        "
   ]
  },
  {
   "cell_type": "markdown",
   "metadata": {
    "deletable": true,
    "editable": true
   },
   "source": [
    "### 1.3 Binomial\n",
    "**[20 points]** Write a simple function that, for a given numpy array consisting of zero's and ones, return the number of positives. Use this in a function named `binomial_sample(n,m,p)` that returns a vector of size $n$, where each slot contains the number of positives in $m$ trials, where each positive has probability $p$."
   ]
  },
  {
   "cell_type": "code",
   "execution_count": 5,
   "metadata": {
    "collapsed": false,
    "deletable": true,
    "editable": true
   },
   "outputs": [
    {
     "data": {
      "text/plain": [
       "array([ 6.,  2.,  3.,  4.,  2.,  6.,  5.,  5.,  7.,  5.])"
      ]
     },
     "execution_count": 5,
     "metadata": {},
     "output_type": "execute_result"
    }
   ],
   "source": [
    "def binomial_sample(n,m,p):\n",
    "    result = np.zeros(n)\n",
    "    for i in range(n):\n",
    "        result[i] = sum(multiple_trials(m, p))\n",
    "    return result\n",
    "\n",
    "binomial_sample(10, 10, 0.5)"
   ]
  },
  {
   "cell_type": "markdown",
   "metadata": {
    "deletable": true,
    "editable": true
   },
   "source": [
    "### 1.4 Histogram\n",
    "**[20 points]** Recreate a sampling distribution similar to Figure 2.1 in Bishop by drawing $500$ Binomial samples, i.e. from `binomial_sample(n,m,p)`, with $m=10$ and $p=0.25$. Make sure you normalize the histogram to get a sampling density distribution. Hint: you can use `plt.hist()` to plot historgams."
   ]
  },
  {
   "cell_type": "code",
   "execution_count": 23,
   "metadata": {
    "collapsed": false,
    "deletable": true,
    "editable": true
   },
   "outputs": [
    {
     "data": {
      "image/png": "[encoded data removed]",
      "text/plain": [
       "<matplotlib.figure.Figure at 0x7fa487a9a748>"
      ]
     },
     "metadata": {},
     "output_type": "display_data"
    }
   ],
   "source": [
    "plt.hist(binomial_sample(500, 10, 0.25));"
   ]
  },
  {
   "cell_type": "markdown",
   "metadata": {
    "deletable": true,
    "editable": true
   },
   "source": [
    "### 1.5 Central limit theorem\n",
    "**[20 points]** Plot another histogram but now with $10^5$ samples, $p=0.4$ and $m=10$. In the same plot, draw a normal distribution with $\\mu = 4$ and $\\sigma=\\sqrt{2.4}$. Do these results make sense?"
   ]
  },
  {
   "cell_type": "code",
   "execution_count": 7,
   "metadata": {
    "collapsed": false,
    "deletable": true,
    "editable": true
   },
   "outputs": [
    {
     "data": {
      "image/png": "[encoded data removed]",
      "text/plain": [
       "<matplotlib.figure.Figure at 0x7fa489b7e978>"
      ]
     },
     "metadata": {},
     "output_type": "display_data"
    }
   ],
   "source": [
    "plt.hist(binomial_sample(10**5, 10, 0.4), normed=True)\n",
    "x = np.linspace(1,10,100)\n",
    "plt.plot(x, gaussian_pdf(x, mu=4, sigma=sqrt(2.4)));"
   ]
  },
  {
   "cell_type": "markdown",
   "metadata": {
    "deletable": true,
    "editable": true
   },
   "source": [
    "$$\n",
    "E[X] = \\sum(p * value) = \\\\\n",
    "E[X] = 0.6 * 0 + 1 * 0.4 = 0.4 \\\\\n",
    "$$\n",
    "If we repeat this experiment several times the average number of ones approaches 0.4 of the total.\n",
    "In the graph we can see that the normal curve matches with the bins of the histogram.\n",
    "\n",
    "$$\n",
    "Var[X]= E[X^2 - E[X]^2] = \\\\\n",
    "E[X^2] - E[X]^2 = \\\\\n",
    "0.4 - 0.4^2 = 0.24 \\\\\n",
    "$$\n",
    "When doing 10 samples this number is multiplied by 10 giving 2.4, the standard deviation is the square root of this number."
   ]
  },
  {
   "cell_type": "code",
   "execution_count": 26,
   "metadata": {
    "collapsed": false,
    "deletable": true,
    "editable": true
   },
   "outputs": [
    {
     "data": {
      "text/plain": [
       "0.24"
      ]
     },
     "execution_count": 26,
     "metadata": {},
     "output_type": "execute_result"
    }
   ],
   "source": [
    "0.4 - 0.4**2"
   ]
  }
 ],
 "metadata": {
  "kernelspec": {
   "display_name": "Python 3",
   "language": "python",
   "name": "python3"
  },
  "language_info": {
   "codemirror_mode": {
    "name": "ipython",
    "version": 3
   },
   "file_extension": ".py",
   "mimetype": "text/x-python",
   "name": "python",
   "nbconvert_exporter": "python",
   "pygments_lexer": "ipython3",
   "version": "3.5.2"
  }
 },
 "nbformat": 4,
 "nbformat_minor": 0
}
